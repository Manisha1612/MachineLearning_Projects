{
 "cells": [
  {
   "cell_type": "markdown",
   "metadata": {},
   "source": [
    "### Getting Started with Machine Learning using Scikit-learn Python Module.\n"
   ]
  },
  {
   "cell_type": "markdown",
   "metadata": {},
   "source": [
    "Prerequisit : Knoledge of Machine Learning : Supervised Algorithm (Regression ), Python Programming"
   ]
  },
  {
   "cell_type": "markdown",
   "metadata": {},
   "source": [
    "# Introducing the Iris Dataset\n",
    "Machine Learning on the Iris Dataset\n",
    "1. It is a Supervised Learning Problem. To Predict the species of and Iris using the measurements\n",
    "2. Its a Famous dataset to beginners.\n",
    "3. We will see here Regression  Algorithm from sklearn"
   ]
  },
  {
   "cell_type": "code",
   "execution_count": null,
   "metadata": {},
   "outputs": [],
   "source": [
    "# Here we are importing SVM (Support vector Machine , Built in Iris Dataset, Numpy )\n",
    "from sklearn import svm\n",
    "# Import dataset to load the data\n",
    "from sklearn import datasets\n",
    "import seaborn as sns\n",
    "import numpy as np\n",
    "from sklearn.cross_validation import train_test_split"
   ]
  },
  {
   "cell_type": "code",
   "execution_count": null,
   "metadata": {},
   "outputs": [],
   "source": [
    "# load_iris function from datasets module\n",
    "iris=datasets.load_iris()\n",
    "iris1=sns.load_dataset(\"iris\")"
   ]
  },
  {
   "cell_type": "code",
   "execution_count": null,
   "metadata": {},
   "outputs": [],
   "source": [
    "print(iris1.tail())"
   ]
  },
  {
   "cell_type": "code",
   "execution_count": null,
   "metadata": {},
   "outputs": [],
   "source": [
    "# The type of dataset is saved as \"bunch\" object , contains Iris dataset and its attributes\n",
    "print(type(iris))\n",
    "print(type(iris1))"
   ]
  },
  {
   "cell_type": "code",
   "execution_count": null,
   "metadata": {},
   "outputs": [],
   "source": [
    "iris1.species.value_counts()"
   ]
  },
  {
   "cell_type": "code",
   "execution_count": null,
   "metadata": {},
   "outputs": [],
   "source": [
    "# print the iris dataset\n",
    "print(iris.data)"
   ]
  },
  {
   "cell_type": "code",
   "execution_count": null,
   "metadata": {},
   "outputs": [],
   "source": [
    "# retuns you total no. of datapoints are there \n",
    "iris.data.shape"
   ]
  },
  {
   "cell_type": "code",
   "execution_count": null,
   "metadata": {},
   "outputs": [],
   "source": [
    "# it will give you name of the four features\n",
    "iris.feature_names"
   ]
  },
  {
   "cell_type": "code",
   "execution_count": null,
   "metadata": {},
   "outputs": [],
   "source": [
    "iris.target"
   ]
  },
  {
   "cell_type": "code",
   "execution_count": null,
   "metadata": {},
   "outputs": [],
   "source": [
    "# to check target values\n",
    "iris.target.shape"
   ]
  },
  {
   "cell_type": "code",
   "execution_count": null,
   "metadata": {},
   "outputs": [],
   "source": [
    "# Will give you name of flowers which are encoded as 0:Setosa, 1: versicolor, 2 : verginica\n",
    "iris.target_names"
   ]
  },
  {
   "cell_type": "code",
   "execution_count": null,
   "metadata": {},
   "outputs": [],
   "source": [
    "# print data type of features and response\n",
    "print(type(iris.data))\n",
    "print(type(iris.target))"
   ]
  },
  {
   "cell_type": "markdown",
   "metadata": {},
   "source": [
    "### Note :\n",
    "#### 1. The value which we are predicting is the response, its a dependent variable.\n",
    "#### 2. In Classification(Supervised Learning) , response is categorical\n",
    "#### 3. In Regression  (Supervised Learning), response is continuous or ordered."
   ]
  },
  {
   "cell_type": "markdown",
   "metadata": {},
   "source": [
    "# Requirement to work with scikit-learn\n",
    "1. Data and response should be seperated\n",
    "2. All data should be in Numeric Form\n",
    "3. Data should be in structured form (in specific shape)"
   ]
  },
  {
   "cell_type": "code",
   "execution_count": null,
   "metadata": {},
   "outputs": [],
   "source": [
    "x=iris.data\n",
    "print(x.shape)"
   ]
  },
  {
   "cell_type": "code",
   "execution_count": null,
   "metadata": {},
   "outputs": [],
   "source": [
    "y=iris.target\n",
    "print(y.shape)"
   ]
  },
  {
   "cell_type": "code",
   "execution_count": null,
   "metadata": {},
   "outputs": [],
   "source": [
    "\n",
    "x_train, x_test, y_train, y_test= train_test_split(x , y , test_size= 0.3, random_state=4)\n",
    "print(x_train.shape)\n",
    "print(x_test.shape)\n",
    "print(y_train.shape)\n",
    "print(y_test.shape)\n",
    "\n"
   ]
  },
  {
   "cell_type": "code",
   "execution_count": null,
   "metadata": {},
   "outputs": [],
   "source": [
    "#from sklearn.linear_model import LogisticRegression\n",
    "#model=LogisticRegression()\n",
    "model=svm.SVC(kernel='linear')\n",
    "#model=svm.SVC()"
   ]
  },
  {
   "cell_type": "code",
   "execution_count": null,
   "metadata": {
    "scrolled": false
   },
   "outputs": [],
   "source": [
    "#xtrain=x_train.reshape(-1,1)\n",
    "#ytrain=y_train.reshape(-1,1)\n",
    "#xtest=x_test.reshape(-1,1)\n",
    "#ytest=y_test.reshape(-1,1)"
   ]
  },
  {
   "cell_type": "code",
   "execution_count": null,
   "metadata": {},
   "outputs": [],
   "source": [
    "model.fit(x_train , y_train)"
   ]
  },
  {
   "cell_type": "code",
   "execution_count": null,
   "metadata": {},
   "outputs": [],
   "source": [
    "accuraccy=model.score(x_test, y_test)"
   ]
  },
  {
   "cell_type": "code",
   "execution_count": null,
   "metadata": {},
   "outputs": [],
   "source": [
    "ypred=model.predict(x_test)\n",
    "print(ypred, \"\\nsize :\", ypred.shape)\n",
    "print(iris.target_names)"
   ]
  },
  {
   "cell_type": "code",
   "execution_count": null,
   "metadata": {},
   "outputs": [],
   "source": [
    "from sklearn.metrics import accuracy_score\n",
    "from sklearn.metrics import classification_report"
   ]
  },
  {
   "cell_type": "code",
   "execution_count": null,
   "metadata": {},
   "outputs": [],
   "source": [
    "print(accuracy_score(y_test, ypred))"
   ]
  },
  {
   "cell_type": "code",
   "execution_count": null,
   "metadata": {},
   "outputs": [],
   "source": [
    "print(classification_report(y_test, ypred))"
   ]
  },
  {
   "cell_type": "code",
   "execution_count": null,
   "metadata": {},
   "outputs": [],
   "source": [
    "# Now the model is train and one can test with new value\n",
    "print(model.predict([[3,5,4,2]]))\n",
    "print(model.predict([[6.7,3.0,5.2,2.3]]))\n",
    "x_new=[[3,5,4,2],[5,4,3,2],[6.7,3.0,5.2,2.3]]\n",
    "print(model.predict(x_new))\n"
   ]
  },
  {
   "cell_type": "markdown",
   "metadata": {},
   "source": [
    "### ---------- END---------------"
   ]
  },
  {
   "cell_type": "markdown",
   "metadata": {},
   "source": [
    "# Using KNN (K Nearest Neighbors) Algorithm"
   ]
  },
  {
   "cell_type": "code",
   "execution_count": null,
   "metadata": {},
   "outputs": [],
   "source": [
    "\n",
    "from sklearn.datasets import load_iris\n",
    "\n",
    "iris=load_iris()\n",
    "x=iris.data\n",
    "y=iris.target\n",
    "print(x.shape)\n",
    "print(y.shape)\n",
    "# KNN\n",
    "#  Import the class for KNN\n",
    "from sklearn.neighbors import KNeighborsClassifier"
   ]
  },
  {
   "cell_type": "code",
   "execution_count": null,
   "metadata": {},
   "outputs": [],
   "source": [
    "# create the object of KNeighborsClassifier\n",
    "# to select nearest neighbors 1\n",
    "knn=KNeighborsClassifier(n_neighbors=5)    # n=5\n",
    "knn1=KNeighborsClassifier(n_neighbors=1)# n=1"
   ]
  },
  {
   "cell_type": "code",
   "execution_count": null,
   "metadata": {},
   "outputs": [],
   "source": [
    "print(knn)"
   ]
  },
  {
   "cell_type": "markdown",
   "metadata": {},
   "source": [
    "#### Fit the model with data\n",
    "#### Here model is learning relationship between Independent (x) variable and dependent variable(y)\n",
    "1. KNN is simple Machine Learning model but it will make Highly Accurate Prediction\n",
    "2. k=1, whill check nearest node and decide the class\n",
    "3. k=5, will check , out of 5 how many nearest neighbors are close to the test node. \n",
    "   Then accordingly decide the test class."
   ]
  },
  {
   "cell_type": "code",
   "execution_count": null,
   "metadata": {},
   "outputs": [],
   "source": [
    "from sklearn.cross_validation import train_test_split\n",
    "x_train, x_test, y_train, y_test= train_test_split(x,y, test_size=0.3, random_state=4)"
   ]
  },
  {
   "cell_type": "code",
   "execution_count": null,
   "metadata": {},
   "outputs": [],
   "source": [
    "print(x_train.shape)\n",
    "print(y_train.shape)\n",
    "print(x_test.shape)\n",
    "\n",
    "print(y_test.shape)"
   ]
  },
  {
   "cell_type": "code",
   "execution_count": null,
   "metadata": {},
   "outputs": [],
   "source": [
    "knn.fit(x_train, y_train)   # knn, n=5\n",
    "knn1.fit(x_train, y_train)   # knn, n=1\n"
   ]
  },
  {
   "cell_type": "code",
   "execution_count": null,
   "metadata": {},
   "outputs": [],
   "source": [
    "#ypred=knn.predict(x)\n",
    "#print(ypred)\n",
    "ytestpred=knn.predict(x_test) # n=5\n",
    "print(\"ytestpred = \", ytestpred)\n",
    "ytestpred1=knn1.predict(x_test)  #n=1"
   ]
  },
  {
   "cell_type": "code",
   "execution_count": null,
   "metadata": {},
   "outputs": [],
   "source": [
    "from sklearn import metrics\n",
    "#print(metrics.accuracy_score(y,ypred))\n",
    "print(\"accuracy N=5\", metrics.accuracy_score(y_test,ytestpred))     #knn, n=5\n",
    "print(\"accuracy N=1\",metrics.accuracy_score(y_test, ytestpred1))  # knn, n=1"
   ]
  },
  {
   "cell_type": "code",
   "execution_count": null,
   "metadata": {},
   "outputs": [],
   "source": [
    "# Test prediction with new value  ( This code is executed with splitting data using train test split)\n",
    "print(knn.predict([[3,5,4,2]]))\n",
    "x_new=[[3,5,4,2],[5,4,3,2],[6.7,3.0,5.2,2.3]]\n",
    "print(knn.predict(x_new))"
   ]
  },
  {
   "cell_type": "code",
   "execution_count": null,
   "metadata": {},
   "outputs": [],
   "source": [
    "# Now the model is train and one can test with new value\n",
    "print(knn.predict([[3,5,4,2]]))\n",
    "print(knn.predict([[6.7,3.0,5.2,2.3]]))\n",
    "x_new=[[3,5,4,2],[5,4,3,2],[6.7,3.0,5.2,2.3]]\n",
    "print(knn.predict(x_new))\n"
   ]
  },
  {
   "cell_type": "markdown",
   "metadata": {},
   "source": [
    "# Using Logistic Regression Model"
   ]
  },
  {
   "cell_type": "code",
   "execution_count": null,
   "metadata": {},
   "outputs": [],
   "source": [
    "# using Logistic Regression Model\n",
    "from sklearn.linear_model import LogisticRegression\n",
    "from sklearn import metrics\n",
    "lgr=LogisticRegression()\n",
    "lgr.fit(x,y)\n",
    "lgr.predict(x)"
   ]
  },
  {
   "cell_type": "code",
   "execution_count": null,
   "metadata": {},
   "outputs": [],
   "source": [
    "ypred=lgr.predict(x)"
   ]
  },
  {
   "cell_type": "code",
   "execution_count": null,
   "metadata": {},
   "outputs": [],
   "source": [
    "len(ypred)"
   ]
  },
  {
   "cell_type": "code",
   "execution_count": null,
   "metadata": {},
   "outputs": [],
   "source": [
    "print(\"Accuracy without data split : \", metrics.accuracy_score(y,ypred))"
   ]
  },
  {
   "cell_type": "code",
   "execution_count": null,
   "metadata": {},
   "outputs": [],
   "source": [
    "# Now the model is train and one can test with new value   (Without data split)\n",
    "print(lgr.predict([[3,5,4,2]]))\n",
    "print(lgr.predict([[6.7,3.0,5.2,2.3]]))\n",
    "x_new=[[3,5,4,2],[5,4,3,2],[6.7,3.0,5.2,2.3]]\n",
    "print(lgr.predict(x_new))\n"
   ]
  },
  {
   "cell_type": "code",
   "execution_count": null,
   "metadata": {},
   "outputs": [],
   "source": [
    "from sklearn.cross_validation import train_test_split\n",
    "x_train, x_test, y_train, y_test= train_test_split(x,y, test_size=0.3, random_state=4)"
   ]
  },
  {
   "cell_type": "code",
   "execution_count": null,
   "metadata": {},
   "outputs": [],
   "source": [
    "# prediction after data split ,ypredtest on test data.\n",
    "ytestpred=lgr.predict(x_test)\n",
    "print(\"Accuracy after data split:\", metrics.accuracy_score(y_test , ytestpred))"
   ]
  },
  {
   "cell_type": "code",
   "execution_count": null,
   "metadata": {},
   "outputs": [],
   "source": [
    "# Now the model is train and one can test with new value   (With data split)\n",
    "print(lgr.predict([[3,5,4,2]]))\n",
    "print(lgr.predict([[6.7,3.0,5.2,2.3]]))\n",
    "x_new=[[3,5,4,2],[5,4,3,2],[6.7,3.0,5.2,2.3]]\n",
    "print(lgr.predict(x_new))\n"
   ]
  },
  {
   "cell_type": "markdown",
   "metadata": {},
   "source": [
    "### Conclusion : We have tested three Model:\n",
    "                                                Linear regression using SVM : 98%,\n",
    "                                                KNN algorithm : 98% (N=5) and\n",
    "                                                Logistic regression : 96%"
   ]
  },
  {
   "cell_type": "code",
   "execution_count": null,
   "metadata": {},
   "outputs": [],
   "source": []
  }
 ],
 "metadata": {
  "kernelspec": {
   "display_name": "Python 3",
   "language": "python",
   "name": "python3"
  },
  "language_info": {
   "codemirror_mode": {
    "name": "ipython",
    "version": 3
   },
   "file_extension": ".py",
   "mimetype": "text/x-python",
   "name": "python",
   "nbconvert_exporter": "python",
   "pygments_lexer": "ipython3",
   "version": "3.6.5"
  }
 },
 "nbformat": 4,
 "nbformat_minor": 2
}
